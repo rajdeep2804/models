{
 "cells": [
  {
   "cell_type": "code",
   "execution_count": 30,
   "id": "471bd112",
   "metadata": {},
   "outputs": [],
   "source": [
    "import pandas as pd\n",
    "import json"
   ]
  },
  {
   "cell_type": "code",
   "execution_count": 31,
   "id": "511eb8d5",
   "metadata": {},
   "outputs": [],
   "source": [
    "all_documents=pd.read_csv('query_result_2022-02-03T11_48_29.164127Z.csv')"
   ]
  },
  {
   "cell_type": "code",
   "execution_count": 32,
   "id": "779b054b",
   "metadata": {},
   "outputs": [
    {
     "data": {
      "text/html": [
       "<div>\n",
       "<style scoped>\n",
       "    .dataframe tbody tr th:only-of-type {\n",
       "        vertical-align: middle;\n",
       "    }\n",
       "\n",
       "    .dataframe tbody tr th {\n",
       "        vertical-align: top;\n",
       "    }\n",
       "\n",
       "    .dataframe thead th {\n",
       "        text-align: right;\n",
       "    }\n",
       "</style>\n",
       "<table border=\"1\" class=\"dataframe\">\n",
       "  <thead>\n",
       "    <tr style=\"text-align: right;\">\n",
       "      <th></th>\n",
       "      <th>case_id</th>\n",
       "      <th>image_key</th>\n",
       "      <th>bucket</th>\n",
       "      <th>status</th>\n",
       "      <th>id</th>\n",
       "      <th>image_id</th>\n",
       "      <th>class</th>\n",
       "      <th>visibility</th>\n",
       "      <th>type</th>\n",
       "      <th>meta</th>\n",
       "      <th>parent_id</th>\n",
       "      <th>deleted_at</th>\n",
       "      <th>created_at</th>\n",
       "      <th>updated_at</th>\n",
       "      <th>polygon</th>\n",
       "    </tr>\n",
       "  </thead>\n",
       "  <tbody>\n",
       "    <tr>\n",
       "      <th>0</th>\n",
       "      <td>1cd90041-b111-4063-b576-6d549c15d210</td>\n",
       "      <td>images_zippy/document_images/a5ea4c25-dc13-418...</td>\n",
       "      <td>rz-dre-weights</td>\n",
       "      <td>MERGED</td>\n",
       "      <td>5398148</td>\n",
       "      <td>817440</td>\n",
       "      <td>NaN</td>\n",
       "      <td>around_75</td>\n",
       "      <td>profile</td>\n",
       "      <td>{\"state\": \"Delhi\", \"documentSide\": \"Front\", \"d...</td>\n",
       "      <td>NaN</td>\n",
       "      <td>NaN</td>\n",
       "      <td>2022-01-18T16:51:30.713466Z</td>\n",
       "      <td>2022-01-18T16:51:30.713466Z</td>\n",
       "      <td>[{\"x\": 294.9794238683128, \"y\": 208.06584362139...</td>\n",
       "    </tr>\n",
       "    <tr>\n",
       "      <th>1</th>\n",
       "      <td>1cd90041-b111-4063-b576-6d549c15d210</td>\n",
       "      <td>images_zippy/document_images/a5ea4c25-dc13-418...</td>\n",
       "      <td>rz-dre-weights</td>\n",
       "      <td>MERGED</td>\n",
       "      <td>5398147</td>\n",
       "      <td>817439</td>\n",
       "      <td>NaN</td>\n",
       "      <td>around_50</td>\n",
       "      <td>profile</td>\n",
       "      <td>{\"state\": \"Delhi\", \"documentSide\": \"Front\", \"d...</td>\n",
       "      <td>NaN</td>\n",
       "      <td>NaN</td>\n",
       "      <td>2022-01-18T16:49:21.053716Z</td>\n",
       "      <td>2022-01-18T16:49:21.053716Z</td>\n",
       "      <td>[{\"x\": 287.0781893004115, \"y\": 165.92592592592...</td>\n",
       "    </tr>\n",
       "    <tr>\n",
       "      <th>2</th>\n",
       "      <td>1cd90041-b111-4063-b576-6d549c15d210</td>\n",
       "      <td>images_zippy/document_images/a5c86375-7bdd-4de...</td>\n",
       "      <td>rz-dre-weights</td>\n",
       "      <td>MERGED</td>\n",
       "      <td>5398146</td>\n",
       "      <td>817438</td>\n",
       "      <td>NaN</td>\n",
       "      <td>fully_visible</td>\n",
       "      <td>profile</td>\n",
       "      <td>{\"state\": \"Haryana\", \"documentSide\": \"Front\", ...</td>\n",
       "      <td>NaN</td>\n",
       "      <td>NaN</td>\n",
       "      <td>2022-01-18T16:45:53.807403Z</td>\n",
       "      <td>2022-01-18T16:45:53.807403Z</td>\n",
       "      <td>[{\"x\": 229.908592321755, \"y\": 203.583180987202...</td>\n",
       "    </tr>\n",
       "    <tr>\n",
       "      <th>3</th>\n",
       "      <td>1cd90041-b111-4063-b576-6d549c15d210</td>\n",
       "      <td>images_zippy/document_images/a5b3d82f-0ba3-4df...</td>\n",
       "      <td>rz-dre-weights</td>\n",
       "      <td>MERGED</td>\n",
       "      <td>5398145</td>\n",
       "      <td>817437</td>\n",
       "      <td>NaN</td>\n",
       "      <td>around_75</td>\n",
       "      <td>profile</td>\n",
       "      <td>{\"state\": \"Delhi\", \"documentSide\": \"Front\", \"d...</td>\n",
       "      <td>NaN</td>\n",
       "      <td>NaN</td>\n",
       "      <td>2022-01-18T16:43:07.688191Z</td>\n",
       "      <td>2022-01-18T16:43:07.688191Z</td>\n",
       "      <td>[{\"x\": 551.0786106032906, \"y\": 328.19012797074...</td>\n",
       "    </tr>\n",
       "    <tr>\n",
       "      <th>4</th>\n",
       "      <td>1cd90041-b111-4063-b576-6d549c15d210</td>\n",
       "      <td>images_zippy/document_images/a5b3d82f-0ba3-4df...</td>\n",
       "      <td>rz-dre-weights</td>\n",
       "      <td>MERGED</td>\n",
       "      <td>5398141</td>\n",
       "      <td>817436</td>\n",
       "      <td>NaN</td>\n",
       "      <td>fully_visible</td>\n",
       "      <td>profile</td>\n",
       "      <td>{\"state\": \"Delhi\", \"documentSide\": \"back\", \"do...</td>\n",
       "      <td>NaN</td>\n",
       "      <td>NaN</td>\n",
       "      <td>2022-01-18T16:40:51.909386Z</td>\n",
       "      <td>2022-01-18T16:40:51.909386Z</td>\n",
       "      <td>[{\"x\": 542.3034734917733, \"y\": 257.98903107861...</td>\n",
       "    </tr>\n",
       "    <tr>\n",
       "      <th>...</th>\n",
       "      <td>...</td>\n",
       "      <td>...</td>\n",
       "      <td>...</td>\n",
       "      <td>...</td>\n",
       "      <td>...</td>\n",
       "      <td>...</td>\n",
       "      <td>...</td>\n",
       "      <td>...</td>\n",
       "      <td>...</td>\n",
       "      <td>...</td>\n",
       "      <td>...</td>\n",
       "      <td>...</td>\n",
       "      <td>...</td>\n",
       "      <td>...</td>\n",
       "      <td>...</td>\n",
       "    </tr>\n",
       "    <tr>\n",
       "      <th>4910</th>\n",
       "      <td>861ba1d1-2060-4ba0-9c84-12ed7b20269b</td>\n",
       "      <td>images_zippy/document_images/3c8878b5-22d4-434...</td>\n",
       "      <td>rz-dre-weights</td>\n",
       "      <td>MERGED</td>\n",
       "      <td>5310605</td>\n",
       "      <td>822223</td>\n",
       "      <td>NaN</td>\n",
       "      <td>around_75</td>\n",
       "      <td>profile</td>\n",
       "      <td>{\"state\": \"Delhi\", \"documentSide\": \"Front\", \"d...</td>\n",
       "      <td>NaN</td>\n",
       "      <td>NaN</td>\n",
       "      <td>2022-01-11T11:42:12.740376Z</td>\n",
       "      <td>2022-01-11T11:42:12.740376Z</td>\n",
       "      <td>[{\"x\": 406.7163288040666, \"y\": 281.14789748033...</td>\n",
       "    </tr>\n",
       "    <tr>\n",
       "      <th>4911</th>\n",
       "      <td>861ba1d1-2060-4ba0-9c84-12ed7b20269b</td>\n",
       "      <td>images_zippy/document_images/3c768cea-79aa-44d...</td>\n",
       "      <td>rz-dre-weights</td>\n",
       "      <td>MERGED</td>\n",
       "      <td>5310593</td>\n",
       "      <td>822222</td>\n",
       "      <td>NaN</td>\n",
       "      <td>around_75</td>\n",
       "      <td>profile</td>\n",
       "      <td>{\"state\": \"Delhi\", \"documentSide\": \"Front\", \"d...</td>\n",
       "      <td>NaN</td>\n",
       "      <td>NaN</td>\n",
       "      <td>2022-01-11T11:41:37.290455Z</td>\n",
       "      <td>2022-01-11T11:41:37.290455Z</td>\n",
       "      <td>[{\"x\": 454.39844800936464, \"y\": 303.3995531094...</td>\n",
       "    </tr>\n",
       "    <tr>\n",
       "      <th>4912</th>\n",
       "      <td>861ba1d1-2060-4ba0-9c84-12ed7b20269b</td>\n",
       "      <td>images_zippy/document_images/3c65bae5-fa74-407...</td>\n",
       "      <td>rz-dre-weights</td>\n",
       "      <td>MERGED</td>\n",
       "      <td>5310582</td>\n",
       "      <td>822221</td>\n",
       "      <td>NaN</td>\n",
       "      <td>fully_visible</td>\n",
       "      <td>profile</td>\n",
       "      <td>{\"state\": \"Delhi\", \"documentSide\": \"Front\", \"d...</td>\n",
       "      <td>NaN</td>\n",
       "      <td>NaN</td>\n",
       "      <td>2022-01-11T11:41:06.710899Z</td>\n",
       "      <td>2022-01-11T11:41:06.710899Z</td>\n",
       "      <td>[{\"x\": 416.25275264512624, \"y\": 193.7306789372...</td>\n",
       "    </tr>\n",
       "    <tr>\n",
       "      <th>4913</th>\n",
       "      <td>861ba1d1-2060-4ba0-9c84-12ed7b20269b</td>\n",
       "      <td>images_zippy/document_images/3c65bae5-fa74-407...</td>\n",
       "      <td>rz-dre-weights</td>\n",
       "      <td>MERGED</td>\n",
       "      <td>5310574</td>\n",
       "      <td>822220</td>\n",
       "      <td>NaN</td>\n",
       "      <td>fully_visible</td>\n",
       "      <td>profile</td>\n",
       "      <td>{\"state\": \"Delhi\", \"documentSide\": \"Front\", \"d...</td>\n",
       "      <td>NaN</td>\n",
       "      <td>NaN</td>\n",
       "      <td>2022-01-11T11:40:41.524001Z</td>\n",
       "      <td>2022-01-11T11:40:41.524001Z</td>\n",
       "      <td>[{\"x\": 293.86864668486135, \"y\": 157.1743875465...</td>\n",
       "    </tr>\n",
       "    <tr>\n",
       "      <th>4914</th>\n",
       "      <td>861ba1d1-2060-4ba0-9c84-12ed7b20269b</td>\n",
       "      <td>images_zippy/document_images/3c61cc13-279a-434...</td>\n",
       "      <td>rz-dre-weights</td>\n",
       "      <td>MERGED</td>\n",
       "      <td>5310570</td>\n",
       "      <td>822219</td>\n",
       "      <td>NaN</td>\n",
       "      <td>fully_visible</td>\n",
       "      <td>profile</td>\n",
       "      <td>{\"state\": \"Delhi\", \"documentSide\": \"Front\", \"d...</td>\n",
       "      <td>NaN</td>\n",
       "      <td>NaN</td>\n",
       "      <td>2022-01-11T11:40:12.711692Z</td>\n",
       "      <td>2022-01-11T11:40:12.711692Z</td>\n",
       "      <td>[{\"x\": 320.8885142345302, \"y\": 247.77041403663...</td>\n",
       "    </tr>\n",
       "  </tbody>\n",
       "</table>\n",
       "<p>4915 rows × 15 columns</p>\n",
       "</div>"
      ],
      "text/plain": [
       "                                   case_id  \\\n",
       "0     1cd90041-b111-4063-b576-6d549c15d210   \n",
       "1     1cd90041-b111-4063-b576-6d549c15d210   \n",
       "2     1cd90041-b111-4063-b576-6d549c15d210   \n",
       "3     1cd90041-b111-4063-b576-6d549c15d210   \n",
       "4     1cd90041-b111-4063-b576-6d549c15d210   \n",
       "...                                    ...   \n",
       "4910  861ba1d1-2060-4ba0-9c84-12ed7b20269b   \n",
       "4911  861ba1d1-2060-4ba0-9c84-12ed7b20269b   \n",
       "4912  861ba1d1-2060-4ba0-9c84-12ed7b20269b   \n",
       "4913  861ba1d1-2060-4ba0-9c84-12ed7b20269b   \n",
       "4914  861ba1d1-2060-4ba0-9c84-12ed7b20269b   \n",
       "\n",
       "                                              image_key          bucket  \\\n",
       "0     images_zippy/document_images/a5ea4c25-dc13-418...  rz-dre-weights   \n",
       "1     images_zippy/document_images/a5ea4c25-dc13-418...  rz-dre-weights   \n",
       "2     images_zippy/document_images/a5c86375-7bdd-4de...  rz-dre-weights   \n",
       "3     images_zippy/document_images/a5b3d82f-0ba3-4df...  rz-dre-weights   \n",
       "4     images_zippy/document_images/a5b3d82f-0ba3-4df...  rz-dre-weights   \n",
       "...                                                 ...             ...   \n",
       "4910  images_zippy/document_images/3c8878b5-22d4-434...  rz-dre-weights   \n",
       "4911  images_zippy/document_images/3c768cea-79aa-44d...  rz-dre-weights   \n",
       "4912  images_zippy/document_images/3c65bae5-fa74-407...  rz-dre-weights   \n",
       "4913  images_zippy/document_images/3c65bae5-fa74-407...  rz-dre-weights   \n",
       "4914  images_zippy/document_images/3c61cc13-279a-434...  rz-dre-weights   \n",
       "\n",
       "      status       id  image_id  class     visibility     type  \\\n",
       "0     MERGED  5398148    817440    NaN      around_75  profile   \n",
       "1     MERGED  5398147    817439    NaN      around_50  profile   \n",
       "2     MERGED  5398146    817438    NaN  fully_visible  profile   \n",
       "3     MERGED  5398145    817437    NaN      around_75  profile   \n",
       "4     MERGED  5398141    817436    NaN  fully_visible  profile   \n",
       "...      ...      ...       ...    ...            ...      ...   \n",
       "4910  MERGED  5310605    822223    NaN      around_75  profile   \n",
       "4911  MERGED  5310593    822222    NaN      around_75  profile   \n",
       "4912  MERGED  5310582    822221    NaN  fully_visible  profile   \n",
       "4913  MERGED  5310574    822220    NaN  fully_visible  profile   \n",
       "4914  MERGED  5310570    822219    NaN  fully_visible  profile   \n",
       "\n",
       "                                                   meta  parent_id  \\\n",
       "0     {\"state\": \"Delhi\", \"documentSide\": \"Front\", \"d...        NaN   \n",
       "1     {\"state\": \"Delhi\", \"documentSide\": \"Front\", \"d...        NaN   \n",
       "2     {\"state\": \"Haryana\", \"documentSide\": \"Front\", ...        NaN   \n",
       "3     {\"state\": \"Delhi\", \"documentSide\": \"Front\", \"d...        NaN   \n",
       "4     {\"state\": \"Delhi\", \"documentSide\": \"back\", \"do...        NaN   \n",
       "...                                                 ...        ...   \n",
       "4910  {\"state\": \"Delhi\", \"documentSide\": \"Front\", \"d...        NaN   \n",
       "4911  {\"state\": \"Delhi\", \"documentSide\": \"Front\", \"d...        NaN   \n",
       "4912  {\"state\": \"Delhi\", \"documentSide\": \"Front\", \"d...        NaN   \n",
       "4913  {\"state\": \"Delhi\", \"documentSide\": \"Front\", \"d...        NaN   \n",
       "4914  {\"state\": \"Delhi\", \"documentSide\": \"Front\", \"d...        NaN   \n",
       "\n",
       "      deleted_at                   created_at                   updated_at  \\\n",
       "0            NaN  2022-01-18T16:51:30.713466Z  2022-01-18T16:51:30.713466Z   \n",
       "1            NaN  2022-01-18T16:49:21.053716Z  2022-01-18T16:49:21.053716Z   \n",
       "2            NaN  2022-01-18T16:45:53.807403Z  2022-01-18T16:45:53.807403Z   \n",
       "3            NaN  2022-01-18T16:43:07.688191Z  2022-01-18T16:43:07.688191Z   \n",
       "4            NaN  2022-01-18T16:40:51.909386Z  2022-01-18T16:40:51.909386Z   \n",
       "...          ...                          ...                          ...   \n",
       "4910         NaN  2022-01-11T11:42:12.740376Z  2022-01-11T11:42:12.740376Z   \n",
       "4911         NaN  2022-01-11T11:41:37.290455Z  2022-01-11T11:41:37.290455Z   \n",
       "4912         NaN  2022-01-11T11:41:06.710899Z  2022-01-11T11:41:06.710899Z   \n",
       "4913         NaN  2022-01-11T11:40:41.524001Z  2022-01-11T11:40:41.524001Z   \n",
       "4914         NaN  2022-01-11T11:40:12.711692Z  2022-01-11T11:40:12.711692Z   \n",
       "\n",
       "                                                polygon  \n",
       "0     [{\"x\": 294.9794238683128, \"y\": 208.06584362139...  \n",
       "1     [{\"x\": 287.0781893004115, \"y\": 165.92592592592...  \n",
       "2     [{\"x\": 229.908592321755, \"y\": 203.583180987202...  \n",
       "3     [{\"x\": 551.0786106032906, \"y\": 328.19012797074...  \n",
       "4     [{\"x\": 542.3034734917733, \"y\": 257.98903107861...  \n",
       "...                                                 ...  \n",
       "4910  [{\"x\": 406.7163288040666, \"y\": 281.14789748033...  \n",
       "4911  [{\"x\": 454.39844800936464, \"y\": 303.3995531094...  \n",
       "4912  [{\"x\": 416.25275264512624, \"y\": 193.7306789372...  \n",
       "4913  [{\"x\": 293.86864668486135, \"y\": 157.1743875465...  \n",
       "4914  [{\"x\": 320.8885142345302, \"y\": 247.77041403663...  \n",
       "\n",
       "[4915 rows x 15 columns]"
      ]
     },
     "execution_count": 32,
     "metadata": {},
     "output_type": "execute_result"
    }
   ],
   "source": [
    "all_documents"
   ]
  },
  {
   "cell_type": "code",
   "execution_count": 33,
   "id": "49cd4671",
   "metadata": {},
   "outputs": [],
   "source": [
    "def CountFrequency(my_list):\n",
    " \n",
    "    # Creating an empty dictionary\n",
    "    freq = {}\n",
    "    for item in my_list:\n",
    "        if (item in freq):\n",
    "            freq[item] += 1\n",
    "        else:\n",
    "            freq[item] = 1\n",
    "    print(freq)"
   ]
  },
  {
   "cell_type": "markdown",
   "id": "e2ae2eae",
   "metadata": {},
   "source": [
    "### Meta data"
   ]
  },
  {
   "cell_type": "code",
   "execution_count": 34,
   "id": "1ac098c6",
   "metadata": {},
   "outputs": [],
   "source": [
    "state_list = []\n",
    "for i in range(len(all_documents)):\n",
    "    meta = all_documents[\"meta\"][i]\n",
    "    res = json.loads(meta)\n",
    "    res = res['state']\n",
    "    state_list.append(res)\n",
    "  "
   ]
  },
  {
   "cell_type": "code",
   "execution_count": 35,
   "id": "4766d8d3",
   "metadata": {},
   "outputs": [
    {
     "name": "stdout",
     "output_type": "stream",
     "text": [
      "{'Delhi': 3683, 'Haryana': 473, 'Karnataka': 3, 'Bihar': 131, 'West_Bengal': 14, 'Rajasthan': 138, 'Uttar_Pradesh': 340, 'Uttarakhand': 37, 'Puducherry': 4, 'Chandigarh': 11, 'Chhattisgarh': 6, 'Odisha': 8, 'Jharkhand': 12, 'Assam': 7, 'Gujarat': 1, 'Himachal_Pradesh': 12, 'Meghalaya': 1, 'Punjab': 12, 'Maharashtra': 10, 'Kerala': 3, 'Telangana': 1, 'Nagaland': 6, 'Madhya_Pradesh': 1, 'Tamil_Nadu': 1}\n"
     ]
    }
   ],
   "source": [
    "CountFrequency(state_list)"
   ]
  },
  {
   "cell_type": "code",
   "execution_count": 36,
   "id": "95d51ec2",
   "metadata": {},
   "outputs": [],
   "source": [
    "document_Type = []\n",
    "for i in range(len(all_documents)):\n",
    "    meta = all_documents[\"meta\"][i]\n",
    "    res = json.loads(meta)\n",
    "    res = res['documentType']\n",
    "    document_Type.append(res)"
   ]
  },
  {
   "cell_type": "code",
   "execution_count": 37,
   "id": "29d49d91",
   "metadata": {},
   "outputs": [
    {
     "name": "stdout",
     "output_type": "stream",
     "text": [
      "{'RC': 4912, 'DL': 3}\n"
     ]
    }
   ],
   "source": [
    "CountFrequency(document_Type)"
   ]
  },
  {
   "cell_type": "code",
   "execution_count": 18,
   "id": "dba2d313",
   "metadata": {},
   "outputs": [],
   "source": [
    "document_side = []\n",
    "for i in range(len(all_documents)):\n",
    "    meta = all_documents[\"meta\"][i]\n",
    "    res = json.loads(meta)\n",
    "    res = res['documentSide']\n",
    "    document_side.append(res)"
   ]
  },
  {
   "cell_type": "code",
   "execution_count": 19,
   "id": "4e868a5a",
   "metadata": {},
   "outputs": [
    {
     "name": "stdout",
     "output_type": "stream",
     "text": [
      "{'Front': 4417, 'back': 498}\n"
     ]
    }
   ],
   "source": [
    "CountFrequency(document_side)"
   ]
  },
  {
   "cell_type": "code",
   "execution_count": 20,
   "id": "f3c62b3c",
   "metadata": {},
   "outputs": [],
   "source": [
    "document_Rc_Type = []\n",
    "for i in range(len(all_documents)):\n",
    "    meta = all_documents[\"meta\"][i]\n",
    "    res = json.loads(meta)\n",
    "    res = res['documentRcType']\n",
    "    document_Rc_Type.append(res)"
   ]
  },
  {
   "cell_type": "code",
   "execution_count": 21,
   "id": "45619151",
   "metadata": {},
   "outputs": [
    {
     "name": "stdout",
     "output_type": "stream",
     "text": [
      "{'Card': 3766, 'Page': 1118, 'DigiLocker': 31}\n"
     ]
    }
   ],
   "source": [
    "CountFrequency(document_Rc_Type)"
   ]
  },
  {
   "cell_type": "markdown",
   "id": "3b1b9715",
   "metadata": {},
   "source": [
    "### Card Visibility"
   ]
  },
  {
   "cell_type": "code",
   "execution_count": 23,
   "id": "cb026263",
   "metadata": {},
   "outputs": [],
   "source": [
    "card_visibility = []\n",
    "for i in range(len(all_documents)):\n",
    "    card_visibility.append(all_documents[\"visibility\"][i])"
   ]
  },
  {
   "cell_type": "code",
   "execution_count": 24,
   "id": "dcbfabca",
   "metadata": {},
   "outputs": [
    {
     "name": "stdout",
     "output_type": "stream",
     "text": [
      "{'around_75': 1043, 'around_50': 143, 'fully_visible': 3714, 'around_25': 8, 'barely_visible': 7}\n"
     ]
    }
   ],
   "source": [
    "CountFrequency(card_visibility)"
   ]
  },
  {
   "cell_type": "code",
   "execution_count": null,
   "id": "5a3bad7b",
   "metadata": {},
   "outputs": [],
   "source": []
  }
 ],
 "metadata": {
  "kernelspec": {
   "display_name": "Python 3 (ipykernel)",
   "language": "python",
   "name": "python3"
  },
  "language_info": {
   "codemirror_mode": {
    "name": "ipython",
    "version": 3
   },
   "file_extension": ".py",
   "mimetype": "text/x-python",
   "name": "python",
   "nbconvert_exporter": "python",
   "pygments_lexer": "ipython3",
   "version": "3.8.10"
  }
 },
 "nbformat": 4,
 "nbformat_minor": 5
}

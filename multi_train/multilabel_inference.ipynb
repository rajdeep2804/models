{
 "cells": [
  {
   "cell_type": "code",
   "execution_count": 44,
   "id": "ce39ce76",
   "metadata": {},
   "outputs": [
    {
     "name": "stdout",
     "output_type": "stream",
     "text": [
      "WARNING:tensorflow:Unresolved object in checkpoint: (root).optimizer\n"
     ]
    },
    {
     "name": "stderr",
     "output_type": "stream",
     "text": [
      "WARNING:tensorflow:Unresolved object in checkpoint: (root).optimizer\n"
     ]
    },
    {
     "name": "stdout",
     "output_type": "stream",
     "text": [
      "WARNING:tensorflow:Unresolved object in checkpoint: (root).optimizer.iter\n"
     ]
    },
    {
     "name": "stderr",
     "output_type": "stream",
     "text": [
      "WARNING:tensorflow:Unresolved object in checkpoint: (root).optimizer.iter\n"
     ]
    },
    {
     "name": "stdout",
     "output_type": "stream",
     "text": [
      "WARNING:tensorflow:Unresolved object in checkpoint: (root).optimizer.beta_1\n"
     ]
    },
    {
     "name": "stderr",
     "output_type": "stream",
     "text": [
      "WARNING:tensorflow:Unresolved object in checkpoint: (root).optimizer.beta_1\n"
     ]
    },
    {
     "name": "stdout",
     "output_type": "stream",
     "text": [
      "WARNING:tensorflow:Unresolved object in checkpoint: (root).optimizer.beta_2\n"
     ]
    },
    {
     "name": "stderr",
     "output_type": "stream",
     "text": [
      "WARNING:tensorflow:Unresolved object in checkpoint: (root).optimizer.beta_2\n"
     ]
    },
    {
     "name": "stdout",
     "output_type": "stream",
     "text": [
      "WARNING:tensorflow:Unresolved object in checkpoint: (root).optimizer.decay\n"
     ]
    },
    {
     "name": "stderr",
     "output_type": "stream",
     "text": [
      "WARNING:tensorflow:Unresolved object in checkpoint: (root).optimizer.decay\n"
     ]
    },
    {
     "name": "stdout",
     "output_type": "stream",
     "text": [
      "WARNING:tensorflow:Unresolved object in checkpoint: (root).optimizer.learning_rate\n"
     ]
    },
    {
     "name": "stderr",
     "output_type": "stream",
     "text": [
      "WARNING:tensorflow:Unresolved object in checkpoint: (root).optimizer.learning_rate\n"
     ]
    },
    {
     "name": "stdout",
     "output_type": "stream",
     "text": [
      "WARNING:tensorflow:Unresolved object in checkpoint: (root).optimizer's state 'm' for (root).layer_with_weights-1.kernel\n"
     ]
    },
    {
     "name": "stderr",
     "output_type": "stream",
     "text": [
      "WARNING:tensorflow:Unresolved object in checkpoint: (root).optimizer's state 'm' for (root).layer_with_weights-1.kernel\n"
     ]
    },
    {
     "name": "stdout",
     "output_type": "stream",
     "text": [
      "WARNING:tensorflow:Unresolved object in checkpoint: (root).optimizer's state 'm' for (root).layer_with_weights-1.bias\n"
     ]
    },
    {
     "name": "stderr",
     "output_type": "stream",
     "text": [
      "WARNING:tensorflow:Unresolved object in checkpoint: (root).optimizer's state 'm' for (root).layer_with_weights-1.bias\n"
     ]
    },
    {
     "name": "stdout",
     "output_type": "stream",
     "text": [
      "WARNING:tensorflow:Unresolved object in checkpoint: (root).optimizer's state 'v' for (root).layer_with_weights-1.kernel\n"
     ]
    },
    {
     "name": "stderr",
     "output_type": "stream",
     "text": [
      "WARNING:tensorflow:Unresolved object in checkpoint: (root).optimizer's state 'v' for (root).layer_with_weights-1.kernel\n"
     ]
    },
    {
     "name": "stdout",
     "output_type": "stream",
     "text": [
      "WARNING:tensorflow:Unresolved object in checkpoint: (root).optimizer's state 'v' for (root).layer_with_weights-1.bias\n"
     ]
    },
    {
     "name": "stderr",
     "output_type": "stream",
     "text": [
      "WARNING:tensorflow:Unresolved object in checkpoint: (root).optimizer's state 'v' for (root).layer_with_weights-1.bias\n"
     ]
    },
    {
     "name": "stdout",
     "output_type": "stream",
     "text": [
      "WARNING:tensorflow:A checkpoint was restored (e.g. tf.train.Checkpoint.restore or tf.keras.Model.load_weights) but not all checkpointed values were used. See above for specific issues. Use expect_partial() on the load status object, e.g. tf.train.Checkpoint.restore(...).expect_partial(), to silence these warnings, or use assert_consumed() to make the check explicit. See https://www.tensorflow.org/guide/checkpoint#loading_mechanics for details.\n"
     ]
    },
    {
     "name": "stderr",
     "output_type": "stream",
     "text": [
      "WARNING:tensorflow:A checkpoint was restored (e.g. tf.train.Checkpoint.restore or tf.keras.Model.load_weights) but not all checkpointed values were used. See above for specific issues. Use expect_partial() on the load status object, e.g. tf.train.Checkpoint.restore(...).expect_partial(), to silence these warnings, or use assert_consumed() to make the check explicit. See https://www.tensorflow.org/guide/checkpoint#loading_mechanics for details.\n"
     ]
    }
   ],
   "source": [
    "from PIL import Image\n",
    "from PIL import ImageColor\n",
    "from PIL import ImageDraw \n",
    "from os import listdir\n",
    "from os.path import isfile, join\n",
    "import tensorflow as tf\n",
    "import tensorflow_hub as hub\n",
    "import pandas as pd\n",
    "from sklearn.preprocessing import MultiLabelBinarizer\n",
    "\n",
    "export_path = \"models/bce_20220310_222556\"\n",
    "\n",
    "model = tf.compat.v1.keras.experimental.load_from_saved_model(export_path, custom_objects={'KerasLayer':hub.KerasLayer})\n",
    "\n",
    "IMG_SIZE = 224 # Specify height and width of image to match the input format of the model\n",
    "CHANNELS = 3 # Keep RGB color channels to match the input format of the model\n",
    "\n",
    "\n",
    "def show_prediction(title, model, classes):\n",
    "    \n",
    "    # Get movie info\n",
    "    img_path = os.path.join('multi_class_images/', title)\n",
    "    img1 = Image.open(img_path)\n",
    "    # Read and prepare image\n",
    "    img = image.load_img(img_path, target_size=(IMG_SIZE,IMG_SIZE,CHANNELS))\n",
    "    img = image.img_to_array(img)\n",
    "    img = img/255\n",
    "    img = np.expand_dims(img, axis=0)\n",
    "    \n",
    "    fontsize = 1  # starting font size\n",
    "\n",
    "    # portion of image width you want text width to be\n",
    "    img_fraction = 0.85\n",
    "\n",
    "    \n",
    "    font = ImageFont.truetype(\"/usr/share/fonts/truetype/freefont/FreeMono.ttf\", fontsize, encoding=\"unic\")\n",
    "    \n",
    "    \n",
    "    # Generate prediction\n",
    "    data = model.predict(img)\n",
    "    #print(data[0])\n",
    "    conf = []\n",
    "    for i in range(len(data[0])):\n",
    "        if data[0][i]> 0.5:\n",
    "            conf.append(data[0][i])\n",
    "            #print(i, data[0][i])\n",
    "    prediction = (model.predict(img) > 0.5).astype('int')\n",
    "    #print('prediction_out :',prediction)\n",
    "    prediction = pd.Series(prediction[0])\n",
    "    \n",
    "    mlb = MultiLabelBinarizer()\n",
    "    mlb.fit(classes)\n",
    "\n",
    "    # Loop over all labels and show them\n",
    "    N_LABELS = len(mlb.classes_)\n",
    "    prediction.index = mlb.classes_\n",
    "    prediction = prediction[prediction==1].index.values\n",
    "    label = str(prediction)\n",
    "    conf = str(conf)\n",
    "    txt = label + conf\n",
    "    print('label : ', label)\n",
    "    print('txt : '+txt )\n",
    "    while font.getsize(txt)[0] < img_fraction*img1.size[0]:\n",
    "    # iterate until the text size is just larger than the criteria\n",
    "        fontsize += 1\n",
    "        font = ImageFont.truetype(\"/usr/share/fonts/truetype/freefont/FreeMono.ttf\", fontsize, encoding=\"unic\")\n",
    "\n",
    "    # optionally de-increment to be sure it is less than criteria\n",
    "    fontsize -= 1\n",
    "    font = ImageFont.truetype(\"/usr/share/fonts/truetype/freefont/FreeMono.ttf\", fontsize, encoding=\"unic\")\n",
    "    \n",
    "    \n",
    "    draw = ImageDraw.Draw(img1)\n",
    "    label_size = draw.textsize(txt)\n",
    "    text_origin = tuple(np.array([15, 15 - label_size[1]]))\n",
    "    print(text_origin)\n",
    "    print(label_size[1])\n",
    "    color = ImageColor.getrgb(\"green\")\n",
    "    # font = ImageFont.truetype(<font-file>, <font-size>)\n",
    "    #font = ImageFont.truetype(\"/usr/share/fonts/truetype/freefont/FreeMono.ttf\", 28, encoding=\"unic\")\n",
    "    # draw.text((x, y),\"Sample Text\",(r,g,b))\n",
    "    #color = ImageColor.getrgb(\"green\")\n",
    "    draw.text(text_origin, txt, fill = color,font = font)\n",
    "    filename = \"output_multi/\"+title\n",
    "    img1.save(filename)"
   ]
  },
  {
   "cell_type": "code",
   "execution_count": 45,
   "id": "b610c1db",
   "metadata": {},
   "outputs": [
    {
     "name": "stdout",
     "output_type": "stream",
     "text": [
      "label :  ['Card' 'Front']\n",
      "txt : ['Card' 'Front'][0.9756422, 0.99900407]\n",
      "(15, 4)\n",
      "11\n",
      "label :  ['Card' 'Front']\n",
      "txt : ['Card' 'Front'][0.7648502, 0.9750734]\n",
      "(15, 4)\n",
      "11\n",
      "label :  ['Card' 'Front']\n",
      "txt : ['Card' 'Front'][0.967351, 0.99974483]\n",
      "(15, 4)\n",
      "11\n",
      "label :  ['Card' 'Front']\n",
      "txt : ['Card' 'Front'][0.9548307, 0.9995235]\n",
      "(15, 4)\n",
      "11\n",
      "label :  ['Front' 'Page']\n",
      "txt : ['Front' 'Page'][0.9962106, 0.9949662]\n",
      "(15, 4)\n",
      "11\n",
      "label :  ['Card' 'Front']\n",
      "txt : ['Card' 'Front'][0.96176857, 0.99972624]\n",
      "(15, 4)\n",
      "11\n",
      "label :  ['Front' 'Page']\n",
      "txt : ['Front' 'Page'][0.9976634, 0.6693771]\n",
      "(15, 4)\n",
      "11\n",
      "label :  ['Card' 'back']\n",
      "txt : ['Card' 'back'][0.9957489, 0.6382489]\n",
      "(15, 4)\n",
      "11\n",
      "label :  ['Card' 'Front']\n",
      "txt : ['Card' 'Front'][0.906886, 0.6366544]\n",
      "(15, 4)\n",
      "11\n",
      "label :  ['Card' 'Front']\n",
      "txt : ['Card' 'Front'][0.96703726, 0.9984744]\n",
      "(15, 4)\n",
      "11\n",
      "label :  ['Card' 'back']\n",
      "txt : ['Card' 'back'][0.7954242, 0.99978346]\n",
      "(15, 4)\n",
      "11\n"
     ]
    }
   ],
   "source": [
    "import os\n",
    "import numpy as np\n",
    "from tensorflow.keras.preprocessing import image\n",
    "from PIL import Image\n",
    "from natsort import natsorted\n",
    "from PIL import ImageFont\n",
    "PATH_TO_TEST_IMAGES_DIR = 'multi_class_images'\n",
    "image_name=[]\n",
    "\n",
    "image_name=[f for f in listdir(PATH_TO_TEST_IMAGES_DIR) if isfile(os.path.join(PATH_TO_TEST_IMAGES_DIR, f))]\n",
    "image_name = sorted(image_name)\n",
    "image_name = natsorted(image_name)\n",
    "#print(image_name)\n",
    "\n",
    "titles = [\"008e6476-ec4d-428a-ab68-69b022286d08_820291.jpg\",\n",
    "          \"008e6476-ec4d-428a-ab68-69b022286d08_820299.jpg\",\n",
    "          \"02c19447-c4c8-4945-9116-6d232d5308e7_819485.jpg\",\n",
    "          \"03029226-766f-4abd-b5a2-28ede51bcced_819460.jpg\",\n",
    "          \"92d0d2a9-6f02-43ac-a460-2aed85786a1a_821446.jpg\",\n",
    "          \"69ff563b-ccc3-4c66-aaf3-64f4656e7a40_817463.jpg\",\n",
    "         \"7ecf4700-492a-44fb-8335-e9b1f1e69104_820997.jpg\",\n",
    "         \"a5081444-da42-472c-b1de-409d19322c3e_820142.jpg\",\n",
    "         \"557c27d9-06cb-47ac-8067-b3a3c964cff5_819755.jpg\",\n",
    "         \"365faade-07eb-4385-82bb-7e904c544006_819479.jpg\",\n",
    "         \"d9d995b5-f134-427d-9ae1-b655397f00cf_819039.jpg\"]\n",
    "\n",
    "classes = [['Card', 'DigiLocker', 'Front','Page','back']]\n",
    "for t in titles:\n",
    "    show_prediction(t, model, classes)"
   ]
  },
  {
   "cell_type": "code",
   "execution_count": 35,
   "id": "0ab8dcbd",
   "metadata": {},
   "outputs": [
    {
     "name": "stdout",
     "output_type": "stream",
     "text": [
      "Labels:\n",
      "['Card' 'DigiLocker' 'Front' 'Page' 'back']\n",
      "0. Card\n",
      "1. DigiLocker\n",
      "2. Front\n",
      "3. Page\n",
      "4. back\n"
     ]
    }
   ],
   "source": [
    "from sklearn.preprocessing import MultiLabelBinarizer\n",
    "classes = [['Card', 'DigiLocker', 'Front','Page','back']]\n",
    "\n",
    "print(\"Labels:\")\n",
    "mlb = MultiLabelBinarizer()\n",
    "mlb.fit(classes)\n",
    "\n",
    "# Loop over all labels and show them\n",
    "N_LABELS = len(mlb.classes_)\n",
    "print(mlb.classes_)\n",
    "for (i, label) in enumerate(mlb.classes_):\n",
    "    print(\"{}. {}\".format(i, label))"
   ]
  },
  {
   "cell_type": "code",
   "execution_count": 28,
   "id": "3c78e617",
   "metadata": {},
   "outputs": [
    {
     "name": "stdout",
     "output_type": "stream",
     "text": [
      "Geeks for Geeks\n"
     ]
    }
   ],
   "source": [
    "Card\n",
    "1. DigiLocker\n",
    "2. Front\n",
    "3. Page\n",
    "4. back"
   ]
  },
  {
   "cell_type": "code",
   "execution_count": null,
   "id": "e760909d",
   "metadata": {},
   "outputs": [],
   "source": []
  }
 ],
 "metadata": {
  "kernelspec": {
   "display_name": "Python 3 (ipykernel)",
   "language": "python",
   "name": "python3"
  },
  "language_info": {
   "codemirror_mode": {
    "name": "ipython",
    "version": 3
   },
   "file_extension": ".py",
   "mimetype": "text/x-python",
   "name": "python",
   "nbconvert_exporter": "python",
   "pygments_lexer": "ipython3",
   "version": "3.8.10"
  }
 },
 "nbformat": 4,
 "nbformat_minor": 5
}

{
 "cells": [
  {
   "cell_type": "code",
   "execution_count": 1,
   "id": "61d4df64",
   "metadata": {},
   "outputs": [],
   "source": [
    "import pandas as pd\n",
    "import numpy as np\n",
    "import shutil\n",
    "df = pd.read_csv('multi_label.csv')\n",
    "df['split'] = np.random.randn(df.shape[0], 1)\n",
    "\n",
    "msk = np.random.rand(len(df)) <= 0.8\n",
    "\n",
    "train = df[msk]\n",
    "test = df[~msk]"
   ]
  },
  {
   "cell_type": "code",
   "execution_count": 2,
   "id": "3ad86101",
   "metadata": {},
   "outputs": [
    {
     "name": "stdout",
     "output_type": "stream",
     "text": [
      "                                            file_name              label  \\\n",
      "0     1cd90041-b111-4063-b576-6d549c15d210_817440.jpg  ['Front', 'Card']   \n",
      "1     1cd90041-b111-4063-b576-6d549c15d210_817439.jpg  ['Front', 'Card']   \n",
      "2     1cd90041-b111-4063-b576-6d549c15d210_817438.jpg  ['Front', 'Card']   \n",
      "3     1cd90041-b111-4063-b576-6d549c15d210_817437.jpg  ['Front', 'Card']   \n",
      "4     1cd90041-b111-4063-b576-6d549c15d210_817436.jpg   ['back', 'Card']   \n",
      "...                                               ...                ...   \n",
      "4909  861ba1d1-2060-4ba0-9c84-12ed7b20269b_822224.jpg  ['Front', 'Page']   \n",
      "4910  861ba1d1-2060-4ba0-9c84-12ed7b20269b_822223.jpg  ['Front', 'Card']   \n",
      "4911  861ba1d1-2060-4ba0-9c84-12ed7b20269b_822222.jpg  ['Front', 'Card']   \n",
      "4912  861ba1d1-2060-4ba0-9c84-12ed7b20269b_822221.jpg  ['Front', 'Card']   \n",
      "4913  861ba1d1-2060-4ba0-9c84-12ed7b20269b_822220.jpg  ['Front', 'Card']   \n",
      "\n",
      "         split  \n",
      "0     1.261807  \n",
      "1    -1.193397  \n",
      "2     0.625594  \n",
      "3    -0.827374  \n",
      "4    -0.006506  \n",
      "...        ...  \n",
      "4909  1.254010  \n",
      "4910 -0.841271  \n",
      "4911  0.729392  \n",
      "4912 -0.207900  \n",
      "4913 -0.492035  \n",
      "\n",
      "[3912 rows x 3 columns]\n",
      "                                            file_name              label  \\\n",
      "6     1cd90041-b111-4063-b576-6d549c15d210_817434.jpg  ['Front', 'Card']   \n",
      "10    b556a761-5dcd-4fe9-82bf-427e182c1c58_817430.jpg  ['Front', 'Card']   \n",
      "14    b556a761-5dcd-4fe9-82bf-427e182c1c58_817426.jpg  ['Front', 'Card']   \n",
      "21    db0e6a73-624c-4406-a177-a078dca2d41b_817419.jpg  ['Front', 'Card']   \n",
      "22    db0e6a73-624c-4406-a177-a078dca2d41b_817418.jpg  ['Front', 'Page']   \n",
      "...                                               ...                ...   \n",
      "4873  809f8dd2-4973-4bce-96da-fd3a78c46efb_822195.jpg  ['Front', 'Card']   \n",
      "4888  2e61f391-89eb-4a03-be5f-34df8bbbff61_822325.jpg  ['Front', 'Page']   \n",
      "4892  2e61f391-89eb-4a03-be5f-34df8bbbff61_822319.jpg  ['Front', 'Card']   \n",
      "4904  deab1709-d999-4fe0-bc36-7525b0e0279d_822339.jpg  ['Front', 'Card']   \n",
      "4914  861ba1d1-2060-4ba0-9c84-12ed7b20269b_822219.jpg  ['Front', 'Card']   \n",
      "\n",
      "         split  \n",
      "6     2.301848  \n",
      "10   -0.809415  \n",
      "14    0.702325  \n",
      "21   -1.878537  \n",
      "22   -0.917200  \n",
      "...        ...  \n",
      "4873  1.465303  \n",
      "4888  0.073642  \n",
      "4892 -1.391384  \n",
      "4904 -0.061159  \n",
      "4914 -1.135702  \n",
      "\n",
      "[1003 rows x 3 columns]\n"
     ]
    }
   ],
   "source": [
    "print(train)\n",
    "print(test)"
   ]
  },
  {
   "cell_type": "code",
   "execution_count": 3,
   "id": "b8f4cb69",
   "metadata": {},
   "outputs": [],
   "source": [
    "train.to_csv('m_train.csv', index = False)\n",
    "test.to_csv('m_test.csv', index = False)"
   ]
  },
  {
   "cell_type": "code",
   "execution_count": null,
   "id": "f1c24fb9",
   "metadata": {},
   "outputs": [],
   "source": []
  },
  {
   "cell_type": "code",
   "execution_count": null,
   "id": "cd645fa4",
   "metadata": {},
   "outputs": [],
   "source": []
  }
 ],
 "metadata": {
  "kernelspec": {
   "display_name": "Python 3 (ipykernel)",
   "language": "python",
   "name": "python3"
  },
  "language_info": {
   "codemirror_mode": {
    "name": "ipython",
    "version": 3
   },
   "file_extension": ".py",
   "mimetype": "text/x-python",
   "name": "python",
   "nbconvert_exporter": "python",
   "pygments_lexer": "ipython3",
   "version": "3.8.10"
  }
 },
 "nbformat": 4,
 "nbformat_minor": 5
}
